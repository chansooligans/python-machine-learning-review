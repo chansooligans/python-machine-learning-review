{
 "cells": [
  {
   "cell_type": "markdown",
   "metadata": {},
   "source": [
    "# Neural Networks"
   ]
  },
  {
   "cell_type": "code",
   "execution_count": 3,
   "metadata": {
    "collapsed": true
   },
   "outputs": [],
   "source": [
    "import numpy as np\n",
    "import pandas as pd\n",
    "from numpy.linalg import inv\n",
    "from matplotlib import pyplot as plt"
   ]
  },
  {
   "cell_type": "code",
   "execution_count": 2,
   "metadata": {},
   "outputs": [
    {
     "name": "stderr",
     "output_type": "stream",
     "text": [
      "Using TensorFlow backend.\n"
     ]
    }
   ],
   "source": [
    "from keras.models import Sequential\n",
    "from keras.layers import Dense\n",
    "from keras.utils.np_utils import to_categorical\n",
    "import numpy as np\n",
    "import pandas as pd\n",
    "from sklearn.model_selection import train_test_split, cross_val_score\n",
    "from sklearn.preprocessing import StandardScaler"
   ]
  },
  {
   "cell_type": "markdown",
   "metadata": {},
   "source": [
    "### Data Generating Process"
   ]
  },
  {
   "cell_type": "code",
   "execution_count": 4,
   "metadata": {
    "collapsed": true
   },
   "outputs": [],
   "source": [
    "def inverse_logit(x):\n",
    "    return(1 / (1 + np.exp(-x)))\n",
    "\n",
    "np.random.seed(123)\n",
    "X1 = np.random.normal(1,3,size=10000)\n",
    "X2 = np.random.normal(-3,1,size=10000)\n",
    "Z = 3 + 5*X1 - 2*X2\n",
    "probs = inverse_logit(Z)\n",
    "y = np.random.binomial(size=10000,n=1,p=probs)"
   ]
  },
  {
   "cell_type": "code",
   "execution_count": 5,
   "metadata": {
    "collapsed": true
   },
   "outputs": [],
   "source": [
    "constant = np.repeat(1,10000)\n",
    "X = np.vstack((constant,X1,X2)).T"
   ]
  },
  {
   "cell_type": "code",
   "execution_count": 6,
   "metadata": {
    "collapsed": true
   },
   "outputs": [],
   "source": [
    "X_train, X_test, y_train, y_test = train_test_split(X,y,test_size=0.2)"
   ]
  },
  {
   "cell_type": "code",
   "execution_count": 7,
   "metadata": {
    "collapsed": true
   },
   "outputs": [],
   "source": [
    "y_train = to_categorical(y_train)\n",
    "y_test = to_categorical(y_test)"
   ]
  },
  {
   "cell_type": "markdown",
   "metadata": {},
   "source": [
    "### Create Model"
   ]
  },
  {
   "cell_type": "code",
   "execution_count": 27,
   "metadata": {
    "collapsed": true
   },
   "outputs": [],
   "source": [
    "model = Sequential()\n",
    "model.add(Dense(4, input_dim=3, activation='relu'))\n",
    "model.add(Dense(100, activation='relu'))\n",
    "model.add(Dense(100, activation='relu'))\n",
    "model.add(Dense(2, activation='sigmoid'))"
   ]
  },
  {
   "cell_type": "markdown",
   "metadata": {},
   "source": [
    "### Compile Model"
   ]
  },
  {
   "cell_type": "code",
   "execution_count": 28,
   "metadata": {
    "collapsed": true
   },
   "outputs": [],
   "source": [
    "model.compile(loss='categorical_crossentropy', optimizer='adam', metrics=['accuracy'])"
   ]
  },
  {
   "cell_type": "markdown",
   "metadata": {},
   "source": [
    "### Fit Model"
   ]
  },
  {
   "cell_type": "code",
   "execution_count": 29,
   "metadata": {},
   "outputs": [
    {
     "name": "stdout",
     "output_type": "stream",
     "text": [
      "_________________________________________________________________\n",
      "Layer (type)                 Output Shape              Param #   \n",
      "=================================================================\n",
      "dense_25 (Dense)             (None, 4)                 16        \n",
      "_________________________________________________________________\n",
      "dense_26 (Dense)             (None, 100)               500       \n",
      "_________________________________________________________________\n",
      "dense_27 (Dense)             (None, 100)               10100     \n",
      "_________________________________________________________________\n",
      "dense_28 (Dense)             (None, 2)                 202       \n",
      "=================================================================\n",
      "Total params: 10,818\n",
      "Trainable params: 10,818\n",
      "Non-trainable params: 0\n",
      "_________________________________________________________________\n"
     ]
    }
   ],
   "source": [
    "model.summary()"
   ]
  },
  {
   "cell_type": "code",
   "execution_count": 33,
   "metadata": {},
   "outputs": [
    {
     "name": "stdout",
     "output_type": "stream",
     "text": [
      "Epoch 1/10\n",
      "8000/8000 [==============================] - 0s 24us/step - loss: 0.0562 - acc: 0.9738\n",
      "Epoch 2/10\n",
      "8000/8000 [==============================] - 0s 23us/step - loss: 0.0550 - acc: 0.9759\n",
      "Epoch 3/10\n",
      "8000/8000 [==============================] - 0s 21us/step - loss: 0.0550 - acc: 0.9760\n",
      "Epoch 4/10\n",
      "8000/8000 [==============================] - 0s 23us/step - loss: 0.0549 - acc: 0.9754\n",
      "Epoch 5/10\n",
      "8000/8000 [==============================] - 0s 23us/step - loss: 0.0551 - acc: 0.9769\n",
      "Epoch 6/10\n",
      "8000/8000 [==============================] - 0s 22us/step - loss: 0.0549 - acc: 0.9758\n",
      "Epoch 7/10\n",
      "8000/8000 [==============================] - 0s 22us/step - loss: 0.0548 - acc: 0.9764\n",
      "Epoch 8/10\n",
      "8000/8000 [==============================] - 0s 22us/step - loss: 0.0549 - acc: 0.9761\n",
      "Epoch 9/10\n",
      "8000/8000 [==============================] - 0s 22us/step - loss: 0.0548 - acc: 0.9768\n",
      "Epoch 10/10\n",
      "8000/8000 [==============================] - 0s 23us/step - loss: 0.0548 - acc: 0.9761\n"
     ]
    },
    {
     "data": {
      "text/plain": [
       "<keras.callbacks.History at 0x1a1a9348d0>"
      ]
     },
     "execution_count": 33,
     "metadata": {},
     "output_type": "execute_result"
    }
   ],
   "source": [
    "model.fit(X_train, y_train, epochs=10, batch_size=100)"
   ]
  },
  {
   "cell_type": "code",
   "execution_count": 34,
   "metadata": {},
   "outputs": [
    {
     "name": "stdout",
     "output_type": "stream",
     "text": [
      "8000/8000 [==============================] - 0s 27us/step\n",
      "\n",
      "acc: 97.60%\n"
     ]
    }
   ],
   "source": [
    "scores = model.evaluate(X_train,y_train)\n",
    "print(\"\\n%s: %.2f%%\" % (model.metrics_names[1], scores[1]*100))"
   ]
  }
 ],
 "metadata": {
  "kernelspec": {
   "display_name": "Python 3",
   "language": "python",
   "name": "python3"
  },
  "language_info": {
   "codemirror_mode": {
    "name": "ipython",
    "version": 3
   },
   "file_extension": ".py",
   "mimetype": "text/x-python",
   "name": "python",
   "nbconvert_exporter": "python",
   "pygments_lexer": "ipython3",
   "version": "3.6.8"
  }
 },
 "nbformat": 4,
 "nbformat_minor": 2
}
