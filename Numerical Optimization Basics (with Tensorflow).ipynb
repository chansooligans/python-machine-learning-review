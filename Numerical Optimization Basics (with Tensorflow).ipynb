{
 "cells": [
  {
   "cell_type": "code",
   "execution_count": 45,
   "metadata": {
    "collapsed": true
   },
   "outputs": [],
   "source": [
    "%matplotlib inline\n",
    "import matplotlib\n",
    "import seaborn as sns\n",
    "sns.set()\n",
    "matplotlib.rcParams['figure.dpi'] = 144"
   ]
  },
  {
   "cell_type": "code",
   "execution_count": 1,
   "metadata": {
    "collapsed": true
   },
   "outputs": [],
   "source": [
    "import numpy as np\n",
    "import tensorflow as tf\n",
    "import matplotlib.pyplot as plt"
   ]
  },
  {
   "cell_type": "code",
   "execution_count": 19,
   "metadata": {
    "collapsed": true
   },
   "outputs": [],
   "source": [
    "sess = None\n",
    "\n",
    "def reset_tf():\n",
    "    global sess\n",
    "    if sess:\n",
    "        sess.close()\n",
    "    tf.reset_default_graph()\n",
    "    sess = tf.Session()\n",
    "    \n",
    "reset_tf()"
   ]
  },
  {
   "cell_type": "markdown",
   "metadata": {},
   "source": [
    "In addition to constants and placeholders, TensorFlow also has **Variables**. They can be updated during a computation.\n",
    "\n",
    "Note that variables must be initialized before they are run. Use global_variables_initializer()."
   ]
  },
  {
   "cell_type": "code",
   "execution_count": 20,
   "metadata": {
    "collapsed": true
   },
   "outputs": [],
   "source": [
    "var = tf.Variable(3, name=\"my_var\", dtype=np.int32)"
   ]
  },
  {
   "cell_type": "code",
   "execution_count": 21,
   "metadata": {},
   "outputs": [
    {
     "data": {
      "text/plain": [
       "3"
      ]
     },
     "execution_count": 21,
     "metadata": {},
     "output_type": "execute_result"
    }
   ],
   "source": [
    "init = tf.global_variables_initializer()\n",
    "sess.run(init)\n",
    "sess.run(var)"
   ]
  },
  {
   "cell_type": "markdown",
   "metadata": {},
   "source": [
    "Since we use global variable initializer so much, make a helper function:"
   ]
  },
  {
   "cell_type": "code",
   "execution_count": 22,
   "metadata": {
    "collapsed": true
   },
   "outputs": [],
   "source": [
    "def reset_vars():\n",
    "    sess.run(tf.global_variables_initializer())"
   ]
  },
  {
   "cell_type": "code",
   "execution_count": 24,
   "metadata": {},
   "outputs": [
    {
     "name": "stdout",
     "output_type": "stream",
     "text": [
      "[[ 2.62214494  2.69133568]\n",
      " [ 1.52778268  2.4491353 ]]\n"
     ]
    }
   ],
   "source": [
    "rand_var = tf.Variable(tf.random_normal([2,2], stddev=1, mean=2))\n",
    "reset_vars()\n",
    "print(sess.run(rand_var))"
   ]
  },
  {
   "cell_type": "code",
   "execution_count": 25,
   "metadata": {
    "collapsed": true
   },
   "outputs": [],
   "source": [
    "change_var = var.assign(5)"
   ]
  },
  {
   "cell_type": "code",
   "execution_count": 26,
   "metadata": {},
   "outputs": [
    {
     "name": "stdout",
     "output_type": "stream",
     "text": [
      "3\n",
      "5\n",
      "5\n"
     ]
    }
   ],
   "source": [
    "print(sess.run(var))\n",
    "print(sess.run(change_var))\n",
    "print(sess.run(var))"
   ]
  },
  {
   "cell_type": "code",
   "execution_count": 27,
   "metadata": {},
   "outputs": [
    {
     "name": "stdout",
     "output_type": "stream",
     "text": [
      "10\n",
      "20\n"
     ]
    }
   ],
   "source": [
    "double_var = var.assign(var * 2)\n",
    "print(sess.run(double_var))\n",
    "print(sess.run(double_var))"
   ]
  },
  {
   "cell_type": "markdown",
   "metadata": {},
   "source": [
    "Value of a variable exists only within a session:"
   ]
  },
  {
   "cell_type": "code",
   "execution_count": 29,
   "metadata": {},
   "outputs": [
    {
     "name": "stdout",
     "output_type": "stream",
     "text": [
      "New session: 3\n",
      "Old session: 20\n"
     ]
    }
   ],
   "source": [
    "sess2 = tf.Session()\n",
    "sess2.run(tf.global_variables_initializer())\n",
    "print(\"New session:\", sess2.run(var))\n",
    "print(\"Old session:\", sess.run(var))"
   ]
  },
  {
   "cell_type": "markdown",
   "metadata": {},
   "source": [
    "## Newton's Method"
   ]
  },
  {
   "cell_type": "markdown",
   "metadata": {},
   "source": [
    "$$ f(x) \\approx f(x_0) + f'(x_0) (x - x_0) $$\n",
    "\n",
    "$$ x_{n+1} = x_n - \\frac{f(x_n)}{f'(x_n)} $$"
   ]
  },
  {
   "cell_type": "markdown",
   "metadata": {},
   "source": [
    "Consider $f(x) = x^2 - 2$  \n",
    "The roots are $x = \\pm\\sqrt2$"
   ]
  },
  {
   "cell_type": "code",
   "execution_count": 34,
   "metadata": {
    "collapsed": true
   },
   "outputs": [],
   "source": [
    "reset_tf()\n",
    "\n",
    "x = tf.Variable(0.05, name=\"root\", dtype=np.float64)"
   ]
  },
  {
   "cell_type": "code",
   "execution_count": 35,
   "metadata": {
    "collapsed": true
   },
   "outputs": [],
   "source": [
    "f = x * x - 2\n",
    "fp = 2 * x"
   ]
  },
  {
   "cell_type": "code",
   "execution_count": 36,
   "metadata": {},
   "outputs": [],
   "source": [
    "iterate = x.assign(x - f / fp)"
   ]
  },
  {
   "cell_type": "code",
   "execution_count": 38,
   "metadata": {},
   "outputs": [
    {
     "name": "stdout",
     "output_type": "stream",
     "text": [
      "20.025\n",
      "10.062437578\n",
      "5.13059828749\n",
      "2.76020818631\n",
      "1.74239560615\n",
      "1.44512027882\n",
      "1.41454406259\n",
      "1.41421360098\n",
      "1.41421356237\n",
      "1.41421356237\n"
     ]
    }
   ],
   "source": [
    "reset_vars()\n",
    "\n",
    "for i in range(10):\n",
    "    print(sess.run(iterate))"
   ]
  },
  {
   "cell_type": "code",
   "execution_count": 39,
   "metadata": {},
   "outputs": [
    {
     "data": {
      "text/plain": [
       "0.0"
      ]
     },
     "execution_count": 39,
     "metadata": {},
     "output_type": "execute_result"
    }
   ],
   "source": [
    "sess.run(x) - np.sqrt(2)"
   ]
  },
  {
   "cell_type": "markdown",
   "metadata": {},
   "source": [
    "#### Use tf.gradients() to take derivatives"
   ]
  },
  {
   "cell_type": "code",
   "execution_count": 40,
   "metadata": {
    "collapsed": true
   },
   "outputs": [],
   "source": [
    "fp_auto = tf.gradients(f, x)[0]"
   ]
  },
  {
   "cell_type": "code",
   "execution_count": 42,
   "metadata": {},
   "outputs": [
    {
     "name": "stdout",
     "output_type": "stream",
     "text": [
      "20.025\n",
      "10.062437578\n",
      "5.13059828749\n",
      "2.76020818631\n",
      "1.74239560615\n",
      "1.44512027882\n",
      "1.41454406259\n",
      "1.41421360098\n",
      "1.41421356237\n",
      "1.41421356237\n"
     ]
    }
   ],
   "source": [
    "iterate_auto = x.assign(x - f / fp_auto)\n",
    "reset_vars()\n",
    "for i in range(10):\n",
    "    print(sess.run(iterate_auto))"
   ]
  },
  {
   "cell_type": "markdown",
   "metadata": {},
   "source": [
    "#### Similarly, to find the minima of functions (where derivative is zero):\n",
    "\n",
    "Approximate:\n",
    "\n",
    "$$ f'(x) \\approx f'(x_0) + f''(x_0) (x - x_0) $$\n",
    "\n",
    "Leads to the update rule:\n",
    "\n",
    "$$ x_{n+1} = x_n - \\frac{f'(x_n)}{f''(x_n)} $$"
   ]
  },
  {
   "cell_type": "code",
   "execution_count": null,
   "metadata": {
    "collapsed": true
   },
   "outputs": [],
   "source": [
    "Consider the gamma function:"
   ]
  },
  {
   "cell_type": "code",
   "execution_count": 46,
   "metadata": {},
   "outputs": [
    {
     "data": {
      "image/png": "[encoded data removed]",
      "text/plain": [
       "<matplotlib.figure.Figure at 0x1101295f8>"
      ]
     },
     "metadata": {},
     "output_type": "display_data"
    }
   ],
   "source": [
    "xx = np.linspace(0.1,4)\n",
    "plt.plot(xx, sess.run(tf.exp(tf.lgamma(xx))))\n",
    "plt.xlabel('$x$')\n",
    "plt.ylabel(r'$\\Gamma(x)$');\n",
    "plt.show()"
   ]
  },
  {
   "cell_type": "code",
   "execution_count": 49,
   "metadata": {},
   "outputs": [
    {
     "name": "stdout",
     "output_type": "stream",
     "text": [
      "2.25967890146\n",
      "1.60915629226\n",
      "1.45526617044\n",
      "1.46161332349\n",
      "1.46163214481\n",
      "1.46163214497\n",
      "1.46163214497\n",
      "1.46163214497\n",
      "1.46163214497\n",
      "1.46163214497\n"
     ]
    }
   ],
   "source": [
    "reset_tf()\n",
    "\n",
    "x = tf.Variable(3, name=\"root\", dtype=np.float64)\n",
    "f = tf.exp(tf.lgamma(x))\n",
    "fp_auto = tf.gradients(f, x)[0]\n",
    "fp2_auto = tf.gradients(fp_auto, x)[0]\n",
    "iterate_auto = x.assign(x - fp_auto / fp2_auto)\n",
    "\n",
    "reset_vars()\n",
    "\n",
    "for i in range(10):\n",
    "    print(sess.run(iterate_auto))"
   ]
  },
  {
   "cell_type": "markdown",
   "metadata": {},
   "source": [
    "#### Functions of multiple arguments\n",
    "\n",
    "Equivalent expansion in terms of gradients:\n",
    "$$ \\nabla f(\\mathbf x) \\approx \\nabla f'(\\mathbf {x_0}) + (\\mathbf{x} - \\mathbf{x_0})\\cdot \\nabla\\ \\nabla f(\\mathbf{x_0}) $$\n",
    "\n",
    "Setting all components of this equation to zero leads to n equations for the n components of x:\n",
    "\n",
    "\n",
    "If $\\mathbf{x} = (x, y)$, we can do a bit of math to find the update rules\n",
    "\n",
    "$$ x_{n+1} = x_n + \\left. \\left( \\frac{\\partial^2 f}{\\partial x \\partial y}\\frac{\\partial f}{\\partial y} - \\frac{\\partial^2 f}{\\partial y^2}\\frac{\\partial f}{\\partial x} \\right) \\middle/ \\left( \\frac{\\partial^2 f}{\\partial x^2} \\frac{\\partial^2 f}{\\partial y^2} - \\left(\\frac{\\partial^2 f}{\\partial x \\partial y}\\right)^2 \\right)\\right. $$\n",
    "\n",
    "$$ y_{n+1} = y_n + \\left. \\left( \\frac{\\partial^2 f}{\\partial x \\partial y}\\frac{\\partial f}{\\partial x} - \\frac{\\partial^2 f}{\\partial x^2}\\frac{\\partial f}{\\partial y} \\right) \\middle/ \\left( \\frac{\\partial^2 f}{\\partial x^2} \\frac{\\partial^2 f}{\\partial y^2} - \\left(\\frac{\\partial^2 f}{\\partial x \\partial y}\\right)^2 \\right)\\right. $$\n",
    "\n",
    "Use these to find the minimum of the function\n",
    "\n",
    "$$ f(x, y) = x\\,y - 0.5x \\log(y) - y \\log(x) - \\log(2x + y) $$"
   ]
  },
  {
   "cell_type": "code",
   "execution_count": 50,
   "metadata": {},
   "outputs": [
    {
     "name": "stdout",
     "output_type": "stream",
     "text": [
      "0.0 nan nan\n",
      "0.11 1.7830666414 0.908566005259\n",
      "0.21 1.7830666414 0.908566005259\n",
      "0.32 1.7830666414 0.908566005259\n",
      "0.42 1.7830666414 0.908566005259\n",
      "0.53 1.7830666414 0.908566005259\n",
      "0.63 1.7830666414 0.908566005259\n",
      "0.74 1.7830666414 0.908566005259\n",
      "0.84 1.7830666414 0.908566005259\n",
      "0.95 1.7830666414 0.908566005259\n",
      "1.05 1.7830666414 0.908566005259\n",
      "1.16 1.7830666414 0.908566005259\n",
      "1.26 1.7830666414 0.908566005259\n",
      "1.37 1.7830666414 0.908566005259\n",
      "1.47 1.7830666414 0.908566005259\n",
      "1.58 1.7830666414 0.908566005259\n",
      "1.68 nan nan\n",
      "1.79 nan nan\n",
      "1.89 nan nan\n",
      "2.0 nan nan\n"
     ]
    }
   ],
   "source": [
    "reset_tf()\n",
    "\n",
    "start = np.round(np.linspace(0,2,20),2)\n",
    "for i in start:\n",
    "    x = tf.Variable(i, name=\"root\", dtype=np.float64)\n",
    "    y = tf.Variable(i, name=\"root\", dtype=np.float64)\n",
    "    f = x*y - 0.5*x*tf.log(y) - y*tf.log(x) - tf.log(2*x+y)\n",
    "    dfdx = tf.gradients(f, x)[0]  \n",
    "    dfdy = tf.gradients(f, y)[0]  \n",
    "    dfdx2 = tf.gradients(dfdx, x)[0]  \n",
    "    dfdy2 = tf.gradients(dfdy, y)[0]  \n",
    "    dfdxdy = tf.gradients(dfdx, y)[0]  \n",
    "    iterate_x = x.assign(x + (dfdxdy * dfdy - dfdy2 * dfdx) / (dfdx2 * dfdy2 - dfdxdy**2))\n",
    "    iterate_y = y.assign(y + (dfdxdy * dfdx - dfdx2 * dfdy) / (dfdx2 * dfdy2 - dfdxdy**2))\n",
    "    \n",
    "    reset_vars()\n",
    "    \n",
    "    for j in range(50):\n",
    "        sess.run(iterate_x), sess.run(iterate_y)\n",
    "    \n",
    "    print(i, sess.run(x), sess.run(y))"
   ]
  },
  {
   "cell_type": "code",
   "execution_count": null,
   "metadata": {
    "collapsed": true
   },
   "outputs": [],
   "source": []
  }
 ],
 "metadata": {
  "kernelspec": {
   "display_name": "Python 3",
   "language": "python",
   "name": "python3"
  },
  "language_info": {
   "codemirror_mode": {
    "name": "ipython",
    "version": 3
   },
   "file_extension": ".py",
   "mimetype": "text/x-python",
   "name": "python",
   "nbconvert_exporter": "python",
   "pygments_lexer": "ipython3",
   "version": "3.7.1"
  }
 },
 "nbformat": 4,
 "nbformat_minor": 2
}
