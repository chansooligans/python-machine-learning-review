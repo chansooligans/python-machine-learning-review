{
 "cells": [
  {
   "cell_type": "code",
   "execution_count": 1,
   "metadata": {},
   "outputs": [],
   "source": [
    "import numpy as np\n",
    "import pandas as pd"
   ]
  },
  {
   "cell_type": "markdown",
   "metadata": {},
   "source": [
    "# What is Linear Regression?\n",
    "\n",
    "A regression is a statistical method used to evaluate the relationship between variables.  \n",
    "(More precisely, a regression summarizes how the value of an outcome variable varies over subpopulations defined by linear functions of predictors.)\n",
    "\n",
    "\n",
    "### Inference:\n",
    "\n",
    "Social Sciencees (Education, Sociology, Psychology, Economics, etc...):\n",
    "- What is the relationship between a child's test score and their mother's education level?\n",
    "- Does cognitive behavioral therapy reduce anixety levels?  \n",
    "- Does the death penalty reduce crime?\n",
    "- What happens when the poor receive stipends?\n",
    "- Does exposing children to music make them smarter?\n",
    "\n",
    "Our potential Uses:\n",
    "- **Discrimination is the most common**: Is company X's hiring practice discriminatory? \n",
    "- Discrimination Cases that have used multiple regression:\n",
    "    - Bazemore v. Friday, 478 U.S. 385 (1986), on remand, 848 F.2d 476 (4th Cir. 1988); \n",
    "    - Csicseri v. Bowsher, 862 F. Supp. 547 (D.D.C. 1994) (age discrimination), aff’d, 67 F.3d 972 (D.C. Cir. 1995); \n",
    "    - EEOC v. General Tel. Co., 885 F.2d 575 (9th Cir. 1989), cert. denied, 498 U.S. 950 (1990); \n",
    "    - Bridgeport Guardians, Inc. v. City of Bridgeport, 735 F. Supp. 1126 (D. Conn. 1990)\n",
    "    - Bickerstaff v. Vassar College, 196 F.3d 435, 448–49 (2d Cir. 1999) (sex discrimination); \n",
    "    - McReynolds v. Sodexho Marriott, 349 F. Supp. 2d 1 (D.C. Cir. 2004) (race discrimination); \n",
    "    - Hnot v. Willis Group Holdings Ltd., 228 F.R.D. 476 (S.D.N.Y. 2005) (gender discrimination); \n",
    "    - Carpenter v. Boeing Co., 456 F.3d 1183 (10th Cir. 2006) (sex discrimination); \n",
    "    - Coward v. ADT Security Systems, Inc., 140 F.3d 271, 274–75 (D.C. Cir. 1998); \n",
    "    - Smith v. Virginia Commonwealth Univ., 84 F.3d 672 (4th Cir. 1996) (en banc); \n",
    "    - Hemmings v. Tidyman’s Inc., 285 F.3d 1174, 1184–86 (9th Cir. 2000); \n",
    "    - Mehus v. Emporia State University, 222 F.R.D. 455 (D. Kan. 2004) (sex discrimination); \n",
    "    - Guiterrez v. Johnson & Johnson, 2006 WL 3246605 (D.N.J. Nov. 6, 2006 (race discrimination); \n",
    "    - Morgan v. United Parcel Service, 380 F.3d 459 (8th Cir. 2004) (racial discrimination).\n",
    "- Antitrust\n",
    "- Voting Rights \n",
    "- Estimating Damages . \n",
    "\n",
    "\n",
    "### Prediction:\n",
    "\n",
    "Our potential Uses:  \n",
    "- Regression to detect outliers (e.g. identify properties with unusually large violations given control variables)\n",
    "- Use prediction to identify at-risk populations\n"
   ]
  },
  {
   "cell_type": "markdown",
   "metadata": {},
   "source": [
    "# Interactive Linear Regression Tool:\n",
    "    \n",
    "https://www.desmos.com/calculator/jwquvmikhr  \n",
    "https://www.geogebra.org/m/xC6zq7Zv"
   ]
  }
 ],
 "metadata": {
  "kernelspec": {
   "display_name": "Python 3",
   "language": "python",
   "name": "python3"
  },
  "language_info": {
   "codemirror_mode": {
    "name": "ipython",
    "version": 3
   },
   "file_extension": ".py",
   "mimetype": "text/x-python",
   "name": "python",
   "nbconvert_exporter": "python",
   "pygments_lexer": "ipython3",
   "version": "3.7.1"
  }
 },
 "nbformat": 4,
 "nbformat_minor": 2
}
